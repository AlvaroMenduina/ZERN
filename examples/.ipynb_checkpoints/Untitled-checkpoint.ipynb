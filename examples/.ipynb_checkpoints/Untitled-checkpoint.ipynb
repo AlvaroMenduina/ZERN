{
 "cells": [
  {
   "cell_type": "markdown",
   "id": "1a32fdec-a2fd-4c83-be77-3eb074ec2f5b",
   "metadata": {},
   "source": [
    "# Example\n",
    "\n",
    "Some example here"
   ]
  },
  {
   "cell_type": "code",
   "execution_count": 3,
   "id": "4166985d-5027-46ed-a827-3f917f4b1e3a",
   "metadata": {},
   "outputs": [],
   "source": [
    "import zern.zern_core as zern\n",
    "import numpy as np\n",
    "from numpy.random import RandomState\n",
    "import logging\n",
    "import matplotlib.pyplot as plt\n",
    "plt.rc('font', family='sans-serif')"
   ]
  },
  {
   "cell_type": "code",
   "execution_count": 4,
   "id": "eacdeb31-8b8a-4c75-b546-05356cbb000a",
   "metadata": {},
   "outputs": [],
   "source": [
    "# Parameters\n",
    "N = 1024\n",
    "N_zern = 50\n",
    "rho_max = 1.0\n",
    "randgen = RandomState(12345)  # random seed"
   ]
  },
  {
   "cell_type": "code",
   "execution_count": 5,
   "id": "5fd4bd4a-a730-44a8-841e-0ba52ddc454a",
   "metadata": {},
   "outputs": [],
   "source": [
    "# [0] Construct the coordinates and the aperture mask - simple circ\n",
    "x = np.linspace(-rho_max, rho_max, N)\n",
    "xx, yy = np.meshgrid(x, x)\n",
    "rho = np.sqrt(xx ** 2 + yy ** 2)\n",
    "theta = np.arctan2(xx, yy)\n",
    "aperture_mask = rho <= rho_max\n",
    "rho, theta = rho[aperture_mask], theta[aperture_mask]"
   ]
  },
  {
   "cell_type": "code",
   "execution_count": 6,
   "id": "5a2bdeaa-6ab9-4759-8cc3-34ea9b5bc007",
   "metadata": {},
   "outputs": [
    {
     "ename": "NameError",
     "evalue": "name 'logging' is not defined",
     "output_type": "error",
     "traceback": [
      "\u001b[1;31m---------------------------------------------------------------------------\u001b[0m",
      "\u001b[1;31mNameError\u001b[0m                                 Traceback (most recent call last)",
      "Cell \u001b[1;32mIn[6], line 1\u001b[0m\n\u001b[1;32m----> 1\u001b[0m z \u001b[38;5;241m=\u001b[39m zern\u001b[38;5;241m.\u001b[39mZernikeNaive(mask\u001b[38;5;241m=\u001b[39maperture_mask, log_level\u001b[38;5;241m=\u001b[39m\u001b[43mlogging\u001b[49m\u001b[38;5;241m.\u001b[39mDEBUG)\n\u001b[0;32m      2\u001b[0m coef \u001b[38;5;241m=\u001b[39m randgen\u001b[38;5;241m.\u001b[39mnormal(size\u001b[38;5;241m=\u001b[39m\u001b[38;5;241m10\u001b[39m)      \u001b[38;5;66;03m# Coefficients of the Zernike Series expansion\u001b[39;00m\n\u001b[0;32m      3\u001b[0m result \u001b[38;5;241m=\u001b[39m z(coef\u001b[38;5;241m=\u001b[39mcoef, rho\u001b[38;5;241m=\u001b[39mrho, theta\u001b[38;5;241m=\u001b[39mtheta, normalize_noll\u001b[38;5;241m=\u001b[39m\u001b[38;5;28;01mFalse\u001b[39;00m, mode\u001b[38;5;241m=\u001b[39m\u001b[38;5;124m'\u001b[39m\u001b[38;5;124mStandard\u001b[39m\u001b[38;5;124m'\u001b[39m, print_option\u001b[38;5;241m=\u001b[39m\u001b[38;5;124m'\u001b[39m\u001b[38;5;124mAll\u001b[39m\u001b[38;5;124m'\u001b[39m)\n",
      "\u001b[1;31mNameError\u001b[0m: name 'logging' is not defined"
     ]
    }
   ],
   "source": [
    "z = zern.ZernikeNaive(mask=aperture_mask, log_level=logging.DEBUG)\n",
    "coef = randgen.normal(size=10)      # Coefficients of the Zernike Series expansion\n",
    "result = z(coef=coef, rho=rho, theta=theta, normalize_noll=False, mode='Standard', print_option='All')"
   ]
  },
  {
   "cell_type": "code",
   "execution_count": null,
   "id": "b189f1ac-994c-4841-b3b6-c9dcd98ff8e7",
   "metadata": {},
   "outputs": [],
   "source": []
  }
 ],
 "metadata": {
  "kernelspec": {
   "display_name": "Python 3 (ipykernel)",
   "language": "python",
   "name": "python3"
  },
  "language_info": {
   "codemirror_mode": {
    "name": "ipython",
    "version": 3
   },
   "file_extension": ".py",
   "mimetype": "text/x-python",
   "name": "python",
   "nbconvert_exporter": "python",
   "pygments_lexer": "ipython3",
   "version": "3.11.5"
  }
 },
 "nbformat": 4,
 "nbformat_minor": 5
}
